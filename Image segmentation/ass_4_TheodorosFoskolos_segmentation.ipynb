{
 "cells": [
  {
   "cell_type": "code",
   "execution_count": 4,
   "metadata": {
    "collapsed": true,
    "ExecuteTime": {
     "start_time": "2023-06-21T19:30:06.445564Z",
     "end_time": "2023-06-21T19:30:06.919657Z"
    }
   },
   "outputs": [],
   "source": [
    "import os\n",
    "import numpy as np\n",
    "import matplotlib.pyplot as plt\n",
    "import pandas as pd\n",
    "%matplotlib inline\n",
    "import tifffile as tif\n",
    "import  random"
   ]
  },
  {
   "cell_type": "markdown",
   "source": [
    "## Import the image data and Traces files for AKT and ERK"
   ],
   "metadata": {
    "collapsed": false
   }
  },
  {
   "cell_type": "code",
   "execution_count": 5,
   "outputs": [],
   "source": [
    "## Import path of the data files\n",
    "#img_path = 'IPQDA_23_ASS_D_DATA\\KTR.tif'\n",
    "Akt_path = 'tracked_AKT_KTR2.csv'\n",
    "ERK_path = 'tracked_ERK_KTR2.csv'"
   ],
   "metadata": {
    "collapsed": false,
    "ExecuteTime": {
     "start_time": "2023-06-21T19:30:06.519273Z",
     "end_time": "2023-06-21T19:30:06.919657Z"
    }
   }
  },
  {
   "cell_type": "code",
   "execution_count": 6,
   "outputs": [],
   "source": [
    "#image = tif.imread(img_path)\n",
    "#image.shape\n",
    "Akt_traces = pd.read_csv(Akt_path,  skiprows=[1,2,3])\n",
    "ERK_traces = pd.read_csv(ERK_path, skiprows= [1,2,3])"
   ],
   "metadata": {
    "collapsed": false,
    "ExecuteTime": {
     "start_time": "2023-06-21T19:30:06.537818Z",
     "end_time": "2023-06-21T19:30:07.028749Z"
    }
   }
  },
  {
   "cell_type": "code",
   "execution_count": 61,
   "outputs": [
    {
     "data": {
      "text/plain": "array([  0,   1,   2,   3,   4,   5,   6,   7,   8,   9,  10,  11,  12,\n        13,  14,  15,  16,  17,  18,  19,  20,  21,  22,  23,  24,  25,\n        26,  27,  28,  29,  30,  31,  32,  33,  34,  35,  36,  37,  38,\n        39,  40,  41,  42,  43,  44,  45,  46,  47,  48,  49,  50,  51,\n        52,  53,  54,  55,  56,  57,  58,  59,  60,  61,  62,  63,  64,\n        65,  66,  67,  68,  69,  70,  71,  72,  73,  74,  75,  76,  77,\n        78,  79,  80,  81,  82,  83,  84,  85,  86,  87,  88,  89,  90,\n        91,  92,  93,  94,  95,  96,  97,  98,  99, 100, 101, 102, 103,\n       104, 105, 106, 107, 108, 109, 110, 111, 112, 113, 114, 115, 116,\n       117, 118, 119, 120, 121, 122, 123, 124, 125, 126, 127, 128, 129,\n       130, 131, 132, 133, 134, 135, 136, 137, 138, 139, 140, 141, 142,\n       143, 144, 145, 146, 147, 148, 149, 150, 151, 152, 153, 154, 155,\n       156, 157, 158, 159, 160, 161, 162, 163, 164, 165, 166, 167, 168,\n       169, 170, 171, 172, 173, 174, 175, 176, 177, 178, 179, 180, 181,\n       182, 183, 184, 185, 186, 187, 188, 189, 190, 191, 192, 193, 194,\n       195, 196, 197, 198, 199, 200, 201, 202, 203, 204, 205, 206, 207,\n       208, 209, 210, 211, 212, 213, 214, 215, 216, 217, 218, 219, 220,\n       221, 222, 223, 224, 225, 226, 227, 228, 229, 230, 231, 232, 233,\n       234, 235, 236, 237, 238, 239, 240, 241, 242, 243, 244, 245, 246,\n       247, 248, 249, 250, 251, 252, 253, 254, 255, 256, 257, 258, 259,\n       260, 261, 262, 263, 264, 265, 266, 267, 268, 269, 270, 271, 272,\n       273, 274, 275, 276, 277, 278, 279, 280, 281, 282, 283, 284, 285,\n       286, 287, 288, 289, 290, 291, 292, 293, 294, 295, 296, 297, 298,\n       299, 300, 301, 302, 303, 304, 305, 306, 307, 308, 309, 310, 311,\n       312, 313, 314, 315, 316, 317, 318, 319, 320, 321, 322, 323, 324,\n       325, 326, 327, 328, 329, 330, 331, 332, 333, 334, 335, 336, 337,\n       338, 339, 340, 341, 342, 343, 344, 345, 346, 347, 348, 349, 350,\n       351, 352, 353, 354, 355, 356, 357, 358, 359, 360, 361, 362, 363,\n       364, 365, 366, 367, 368, 369, 370, 371, 372, 373, 374, 375, 376,\n       377, 378, 379, 380, 381, 382, 383, 384, 385, 386, 387, 388, 389,\n       390, 391, 392, 393, 394, 395, 396, 397, 398, 399, 400, 401, 402,\n       403, 404, 405, 406, 407, 408, 409, 410, 411, 412, 413, 414, 415,\n       416, 417, 418, 419, 420, 421, 422, 423, 424, 425, 426, 427, 428,\n       429, 430, 431, 432, 433, 434, 435, 436, 437, 438, 439, 440, 441,\n       442, 443, 444, 445, 446, 447, 448, 449, 450, 451, 452, 453, 454,\n       455, 456, 457, 458, 459, 460, 461, 462, 463, 464, 465, 466, 467,\n       468, 469, 470, 471, 472, 473, 474, 475, 476, 477, 478, 479, 480,\n       481, 482, 483, 484, 485, 486, 487, 488, 489, 490, 491, 492, 493,\n       494, 495, 496, 497, 498, 499, 500, 501, 502, 503, 504, 505, 506,\n       507, 508, 509, 510, 511, 512, 513, 514, 515, 516, 517, 518, 519,\n       520, 521, 522, 523, 524, 525, 526, 527, 528, 529, 530, 531, 532,\n       533, 534, 535, 536, 537, 538, 539, 540, 541, 542, 543, 544, 545,\n       546, 547, 548, 549, 550, 551, 552, 553, 554, 555, 556, 557, 558,\n       559, 560, 561, 562, 563, 564, 565, 566, 567, 568, 569, 570, 571,\n       572, 573, 574, 575, 576, 577, 578, 579, 580, 581, 582, 583, 584,\n       585, 586, 587, 588, 589, 590, 591, 592, 593, 594, 595, 596, 597,\n       598, 599, 600, 601, 602, 603, 604, 605, 606, 607, 608, 609, 610,\n       611, 612, 613, 614, 615, 616, 617, 618, 619, 620, 621, 622, 623,\n       624, 625, 626, 627, 628, 629, 630, 631, 632, 633, 634, 635, 636,\n       637, 638, 639, 640, 641, 642, 643, 644, 645, 646, 647, 648, 649,\n       650, 651, 652, 653, 654, 655, 656, 657, 658, 659, 660, 661, 662,\n       663, 664, 665, 666, 667, 668, 669, 670, 671, 672, 673, 674, 675,\n       676, 677, 678, 679, 680, 681, 682, 683, 684, 685, 686, 687, 688,\n       689, 690, 691, 692, 693, 694, 695, 696, 697, 698, 699, 700, 701,\n       702, 703, 704, 705, 706, 707, 708, 709, 710, 711, 712, 713, 714,\n       715, 716, 717, 718, 719, 720, 721, 722, 723, 724, 725, 726, 727,\n       728, 729, 730, 731, 732, 733, 734, 735, 736, 737, 738, 739, 740,\n       741, 742, 743, 744, 745, 746, 747, 748, 749, 750, 751, 752, 753,\n       754, 755, 756, 757, 758, 759, 760, 761, 762, 763, 764, 765, 766,\n       767, 768, 769, 770, 771, 772, 773, 774, 775, 776, 777, 778, 779,\n       780, 781, 782, 783, 784, 785, 786, 787, 788, 789, 790, 791, 792,\n       793, 794, 795, 796, 797, 798, 799, 800, 801, 802, 803, 804, 805,\n       806, 807, 808, 809, 810, 811, 812, 813, 814, 815, 816, 817, 818,\n       819, 820, 821, 822, 823, 824, 825, 826, 827, 828, 829, 830, 831,\n       832, 833, 834, 835, 836, 837, 838, 839, 840, 841, 842, 843, 844,\n       845, 846, 847, 848, 849, 850, 851, 852, 853, 854, 855, 856, 857,\n       858, 859, 860, 861, 862, 863, 864, 865, 866, 867, 868, 869, 870,\n       871, 872, 873, 874, 875, 876, 877, 878, 879, 880, 881, 882, 883,\n       884, 885, 886, 887, 888, 889, 890, 891, 892, 893, 894, 895, 896,\n       897, 898, 899, 900], dtype=int64)"
     },
     "execution_count": 61,
     "metadata": {},
     "output_type": "execute_result"
    }
   ],
   "source": [
    "(Akt_traces.TRACK_ID).unique()"
   ],
   "metadata": {
    "collapsed": false,
    "ExecuteTime": {
     "start_time": "2023-06-21T20:56:18.995363Z",
     "end_time": "2023-06-21T20:56:19.037572Z"
    }
   }
  },
  {
   "cell_type": "markdown",
   "source": [
    "## Separate the channels"
   ],
   "metadata": {
    "collapsed": false
   }
  },
  {
   "cell_type": "code",
   "execution_count": 7,
   "outputs": [],
   "source": [
    "#Akt_KTR = image[:,0,:,:]\n",
    "#ERK_KTR = image[:,1,:,:]\n",
    "#Nuclear_marker = image[:,2,:,:]\n",
    "#Akt_KTR.shape"
   ],
   "metadata": {
    "collapsed": false,
    "ExecuteTime": {
     "start_time": "2023-06-21T19:30:06.962267Z",
     "end_time": "2023-06-21T19:30:07.028749Z"
    }
   }
  },
  {
   "cell_type": "markdown",
   "source": [
    "## Some Data inspection, also add the total number of unique values"
   ],
   "metadata": {
    "collapsed": false
   }
  },
  {
   "cell_type": "code",
   "execution_count": 8,
   "outputs": [
    {
     "name": "stdout",
     "output_type": "stream",
     "text": [
      "Unique rows in TRACK ID column: \n",
      "Akt =  901 \n",
      "EKT =  932\n",
      "Total rows in TRACK ID column:  \n",
      "Akt 22418 \n",
      "EKT 22483\n"
     ]
    }
   ],
   "source": [
    "print(\"Unique rows in TRACK ID column: \\nAkt = \", len(Akt_traces.TRACK_ID.unique()), \"\\nEKT = \",len(ERK_traces.TRACK_ID.unique()))\n",
    "Akt_unique = len(Akt_traces.TRACK_ID.unique())\n",
    "ERK_unique = len(ERK_traces.TRACK_ID.unique())\n",
    "print(\"Total rows in TRACK ID column: \", \"\\nAkt\",len(Akt_traces.TRACK_ID), \"\\nEKT\", len(ERK_traces.TRACK_ID))"
   ],
   "metadata": {
    "collapsed": false,
    "ExecuteTime": {
     "start_time": "2023-06-21T19:30:06.998075Z",
     "end_time": "2023-06-21T19:30:07.039403Z"
    }
   }
  },
  {
   "cell_type": "code",
   "execution_count": 9,
   "outputs": [
    {
     "name": "stdout",
     "output_type": "stream",
     "text": [
      "         LABEL     ID  TRACK_ID    QUALITY  POSITION_X  POSITION_Y  \\\n",
      "0      ID37571  37571         0  28.649160  253.409379    0.000000   \n",
      "1      ID26693  26693         0  33.722694  253.409379    0.000000   \n",
      "2      ID30921  30921         0  25.967352  254.545744    0.000000   \n",
      "3      ID34251  34251         0  26.240532  254.545744    0.000000   \n",
      "4      ID31755  31755         0  23.517504  254.545744    0.000000   \n",
      "...        ...    ...       ...        ...         ...         ...   \n",
      "22478  ID44219  44219       929  25.488651  570.529403   19.067528   \n",
      "22479  ID43618  43618       930  12.138129  528.485554  322.413340   \n",
      "22480  ID44446  44446       930  12.025722  529.019892  322.355325   \n",
      "22481  ID44742  44742       931   1.515579  641.418158  721.369330   \n",
      "22482  ID43912  43912       931   1.483028  640.923377  722.601040   \n",
      "\n",
      "       POSITION_Z   POSITION_T  FRAME  RADIUS  VISIBILITY  MANUAL_SPOT_COLOR  \\\n",
      "0             0.0  4320.258789     16    12.5           1                NaN   \n",
      "1             0.0     0.000000      0    12.5           1                NaN   \n",
      "2             0.0  3510.210266     13    12.5           1                NaN   \n",
      "3             0.0  2160.129395      8    12.5           1                NaN   \n",
      "4             0.0  3240.194092     12    12.5           1                NaN   \n",
      "...           ...          ...    ...     ...         ...                ...   \n",
      "22478         0.0  7020.420532     26    12.5           1                NaN   \n",
      "22479         0.0  6750.404358     25    12.5           1                NaN   \n",
      "22480         0.0  7020.420532     26    12.5           1                NaN   \n",
      "22481         0.0  7020.420532     26    12.5           1                NaN   \n",
      "22482         0.0  6750.404358     25    12.5           1                NaN   \n",
      "\n",
      "       MEAN_INTENSITY_CH1  MEDIAN_INTENSITY_CH1  MIN_INTENSITY_CH1  \\\n",
      "0              724.305085                   0.0                0.0   \n",
      "1              963.786925                   0.0                0.0   \n",
      "2              648.125908                   0.0                0.0   \n",
      "3              664.200969                   0.0                0.0   \n",
      "4              575.217918                   0.0                0.0   \n",
      "...                   ...                   ...                ...   \n",
      "22478         1676.547215                1866.0                0.0   \n",
      "22479          539.915254                 560.0                0.0   \n",
      "22480          532.019370                 560.0                0.0   \n",
      "22481          160.871671                   0.0                0.0   \n",
      "22482          150.750605                   0.0                0.0   \n",
      "\n",
      "       MAX_INTENSITY_CH1  TOTAL_INTENSITY_CH1  STD_INTENSITY_CH1  \\\n",
      "0                 3356.0             299138.0        1066.142267   \n",
      "1                 4004.0             398044.0        1397.656735   \n",
      "2                 3261.0             267676.0         979.828729   \n",
      "3                 3354.0             274315.0        1000.273308   \n",
      "4                 2890.0             237565.0         877.715108   \n",
      "...                  ...                  ...                ...   \n",
      "22478             4095.0             692414.0        1323.464373   \n",
      "22479             1959.0             222985.0         513.184844   \n",
      "22480             1960.0             219724.0         506.185957   \n",
      "22481              839.0              66440.0         202.875938   \n",
      "22482              840.0              62260.0         198.035836   \n",
      "\n",
      "       CONTRAST_CH1   SNR_CH1  \n",
      "0          0.666457  0.543394  \n",
      "1          0.563899  0.497283  \n",
      "2          0.679551  0.535264  \n",
      "3          0.657813  0.526960  \n",
      "4          0.683333  0.532073  \n",
      "...             ...       ...  \n",
      "22478      0.304662  0.591635  \n",
      "22479      0.367803  0.565814  \n",
      "22480      0.343215  0.537115  \n",
      "22481     -0.045223 -0.075116  \n",
      "22482     -0.043679 -0.069538  \n",
      "\n",
      "[22483 rows x 20 columns]\n"
     ]
    }
   ],
   "source": [
    "print(ERK_traces)"
   ],
   "metadata": {
    "collapsed": false,
    "ExecuteTime": {
     "start_time": "2023-06-21T19:30:07.028749Z",
     "end_time": "2023-06-21T19:30:07.211991Z"
    }
   }
  },
  {
   "cell_type": "markdown",
   "source": [
    "# A function to perform all the calculations of intensities of the traces per time frame by extracting X and Y from the TrackMate exported csv, but WE DONT NEED THEM SO THIS IS COMMENTED**"
   ],
   "metadata": {
    "collapsed": false
   }
  },
  {
   "cell_type": "code",
   "execution_count": 10,
   "outputs": [
    {
     "data": {
      "text/plain": "'# calculate the pixel size to transform the X,Y positions from microns to pixels (validated from Metadata= 0.88)\\n# pixels/ microns\\npixel_size = 1024 / 1163.6377\\nn = 50\\n\\ndef bootstrap_intensity(channel, traces):\\n    # bootstraping sampling times\\n    n_bootstrap = n\\n    # that list contains the median value of each time frame\\n    median_intensity_timeframes = []\\n    ID_list = traces[\"TRACK_ID\"][3:].tolist()\\n    # Number of timeframes\\n    n_timepoints = len(channel)\\n    # Loop over all the traces per timeframe and calculate the median\\n    for f in range (n_timepoints):\\n        intensity_list= []\\n        for s in range (n_bootstrap):\\n            id_number = random.choice(ID_list) # pick a random trace sample\\n            row_index = traces.loc[traces[\"TRACK_ID\"]== id_number] # get the row index\\n\\n            # Get the X, Y positions\\n            X = row_index.iloc[0][\"TRACK_X_LOCATION\"]\\n            Y = row_index.iloc[0][\"TRACK_Y_LOCATION\"]\\n\\n            # Tranform X, Y because they are string and lso in microns\\n            X_trans = round(float(X) * pixel_size)\\n            Y_trans = round(float(Y) * pixel_size)\\n            # Get the intensities from the specific X, Y positions for the specific time-Frame\\n            intensity = channel[f, X_trans, Y_trans]\\n            intensity_list.append(intensity)\\n\\n        median_int = np.median(intensity_list)\\n        median_intensity_timeframes.append(median_int)\\n    # Normalised intensities\\n    normalised_int = median_intensity_timeframes/(np.median(median_intensity_timeframes[0:6]))\\n    # global median int of the normalised intensities\\n    global_int = np.median(normalised_int)\\n\\n    return median_intensity_timeframes , normalised_int, global_int'"
     },
     "execution_count": 10,
     "metadata": {},
     "output_type": "execute_result"
    }
   ],
   "source": [
    "\"\"\"# calculate the pixel size to transform the X,Y positions from microns to pixels (validated from Metadata= 0.88)\n",
    "# pixels/ microns\n",
    "pixel_size = 1024 / 1163.6377\n",
    "n = 50\n",
    "\n",
    "def bootstrap_intensity(channel, traces):\n",
    "    # bootstraping sampling times\n",
    "    n_bootstrap = n\n",
    "    # that list contains the median value of each time frame\n",
    "    median_intensity_timeframes = []\n",
    "    ID_list = traces[\"TRACK_ID\"][3:].tolist()\n",
    "    # Number of timeframes\n",
    "    n_timepoints = len(channel)\n",
    "    # Loop over all the traces per timeframe and calculate the median\n",
    "    for f in range (n_timepoints):\n",
    "        intensity_list= []\n",
    "        for s in range (n_bootstrap):\n",
    "            id_number = random.choice(ID_list) # pick a random trace sample\n",
    "            row_index = traces.loc[traces[\"TRACK_ID\"]== id_number] # get the row index\n",
    "\n",
    "            # Get the X, Y positions\n",
    "            X = row_index.iloc[0][\"TRACK_X_LOCATION\"]\n",
    "            Y = row_index.iloc[0][\"TRACK_Y_LOCATION\"]\n",
    "\n",
    "            # Tranform X, Y because they are string and lso in microns\n",
    "            X_trans = round(float(X) * pixel_size)\n",
    "            Y_trans = round(float(Y) * pixel_size)\n",
    "            # Get the intensities from the specific X, Y positions for the specific time-Frame\n",
    "            intensity = channel[f, X_trans, Y_trans]\n",
    "            intensity_list.append(intensity)\n",
    "\n",
    "        median_int = np.median(intensity_list)\n",
    "        median_intensity_timeframes.append(median_int)\n",
    "    # Normalised intensities\n",
    "    normalised_int = median_intensity_timeframes/(np.median(median_intensity_timeframes[0:6]))\n",
    "    # global median int of the normalised intensities\n",
    "    global_int = np.median(normalised_int)\n",
    "\n",
    "    return median_intensity_timeframes , normalised_int, global_int\"\"\""
   ],
   "metadata": {
    "collapsed": false,
    "ExecuteTime": {
     "start_time": "2023-06-21T19:30:07.073673Z",
     "end_time": "2023-06-21T19:30:07.227981Z"
    }
   }
  },
  {
   "cell_type": "markdown",
   "source": [
    "## Function based on the Workflow to extract normalised"
   ],
   "metadata": {
    "collapsed": false
   }
  },
  {
   "cell_type": "code",
   "execution_count": 11,
   "outputs": [],
   "source": [
    "n = 894\n",
    "b = 20\n",
    "def bootstrap_intensity(traces):\n",
    "    # bootstraping sampling times\n",
    "    n_Samples = n\n",
    "    n_bootstraps = b\n",
    "    # Number of timeframes\n",
    "    n_timepoints = 26\n",
    "\n",
    "    # that list contains the median value of each time frame\n",
    "    ID_list = traces[\"TRACK_ID\"]\n",
    "    # dataframe to save timepoint median values for each bootstrap\n",
    "    bootstrap_df = pd.DataFrame(index=range(n_timepoints))\n",
    "\n",
    "    # Loop over all the traces per timeframe and calculate the median\n",
    "    for boots in range (n_bootstraps):\n",
    "        normalised_int = []\n",
    "        # List to store 27 timepoint median values\n",
    "        median_int_frame =  []\n",
    "        for t in range (n_timepoints):\n",
    "            intensity_list = []\n",
    "            for s in range (n_Samples):\n",
    "                id_number = random.choice(ID_list) # pick a random trace sample\n",
    "                row_index = traces.loc[traces[\"TRACK_ID\"]== id_number] # get the row index\n",
    "                intensity = row_index.loc[row_index[\"FRAME\"] == t, \"MEDIAN_INTENSITY_CH1\"].values\n",
    "                intensity_list.extend(intensity)\n",
    "\n",
    "\n",
    "            intensity_array = np.array(intensity_list)\n",
    "            median_int = np.median(intensity_array, axis=0)\n",
    "            median_int_frame.append(median_int)\n",
    "\n",
    "        # Normalised intensities from 1st to\n",
    "\n",
    "        normalised_int = median_int_frame/(np.median(median_int_frame[0:6]))\n",
    "        bootstrap_df[f\"Bootstrap_{boots}\"] = normalised_int\n",
    "\n",
    "    global_median = bootstrap_df.median(axis=1).tolist()\n",
    "    return bootstrap_df, global_median"
   ],
   "metadata": {
    "collapsed": false,
    "ExecuteTime": {
     "start_time": "2023-06-21T19:30:07.132265Z",
     "end_time": "2023-06-21T19:30:07.246534Z"
    }
   }
  },
  {
   "cell_type": "code",
   "execution_count": 12,
   "outputs": [],
   "source": [
    "# Get all the intensity values we need\n",
    "Bootstrap_Akt_df, global_Akt = bootstrap_intensity(Akt_traces)\n",
    "Bootstrap_ERK_df, global_ERK = bootstrap_intensity(ERK_traces)"
   ],
   "metadata": {
    "collapsed": false,
    "ExecuteTime": {
     "start_time": "2023-06-21T19:30:07.158859Z",
     "end_time": "2023-06-21T19:40:54.938966Z"
    }
   }
  },
  {
   "cell_type": "code",
   "execution_count": 13,
   "outputs": [
    {
     "name": "stdout",
     "output_type": "stream",
     "text": [
      "[1.0, 0.8571428571428571, 1.0, 1.0, 1.0, 1.0, 0.7142857142857143, 0.7142857142857143, 0.7142857142857143, 0.7142857142857143, 0.7142857142857143, 0.5714285714285714, 0.5714285714285714, 0.5714285714285714, 0.5714285714285714, 0.5714285714285714, 0.5714285714285714, 0.5714285714285714, 0.42857142857142855, 0.5714285714285714, 0.5714285714285714, 0.5714285714285714, 0.42857142857142855, 0.42857142857142855, 0.42857142857142855, 0.42857142857142855]\n"
     ]
    }
   ],
   "source": [
    "#Bootstrap_ERK_df.head(26)\n",
    "print(global_Akt)"
   ],
   "metadata": {
    "collapsed": false,
    "ExecuteTime": {
     "start_time": "2023-06-21T19:40:54.943965Z",
     "end_time": "2023-06-21T19:40:54.959028Z"
    }
   }
  },
  {
   "cell_type": "code",
   "execution_count": 14,
   "outputs": [
    {
     "data": {
      "text/plain": "<Figure size 640x480 with 1 Axes>",
      "image/png": "[encoded data removed]"
     },
     "metadata": {},
     "output_type": "display_data"
    }
   ],
   "source": [
    "# Plotting of the global median for Atk and ERK\n",
    "time_points = range(len(global_Akt))\n",
    "\n",
    "#plt.figure(figsize=(10, 6))\n",
    "plt.plot(time_points, global_Akt, label='Atk')\n",
    "plt.plot(time_points, global_ERK, label='ERK')\n",
    "\n",
    "plt.xlabel('Time')\n",
    "plt.ylabel('Global Median')\n",
    "plt.title('Global Median Bootstrapped Time Traces')\n",
    "plt.legend()\n",
    "plt.grid(True)\n",
    "plt.show()"
   ],
   "metadata": {
    "collapsed": false,
    "ExecuteTime": {
     "start_time": "2023-06-21T19:40:54.984074Z",
     "end_time": "2023-06-21T19:40:55.564571Z"
    }
   }
  },
  {
   "cell_type": "code",
   "execution_count": 63,
   "outputs": [
    {
     "name": "stdout",
     "output_type": "stream",
     "text": [
      "minimal_intensity ERK : 0.49955317247542447, minimal_intensity AKT :0.42857142857142855\n"
     ]
    }
   ],
   "source": [
    " # get the minimum intensity from 7 and after\n",
    "min_intensity_ERK = np.min(global_ERK[7:])\n",
    "min_intensity_Akt = np.min(global_Akt[7:])\n",
    "# get the frames that this minimum exist, if more than one exist i will choose the 1st occurrence\n",
    "min_timeFrame_ERK = np.where(global_ERK == min_intensity_ERK)\n",
    "min_timeFrame_Akt = np.where(global_Akt == min_intensity_Akt)\n",
    "\n",
    "print(f\"minimal_intensity ERK : {min_intensity_ERK}, minimal_intensity AKT :{min_intensity_Akt}\")"
   ],
   "metadata": {
    "collapsed": false,
    "ExecuteTime": {
     "start_time": "2023-06-21T21:58:49.716581Z",
     "end_time": "2023-06-21T21:58:49.735649Z"
    }
   }
  },
  {
   "cell_type": "code",
   "execution_count": 64,
   "outputs": [
    {
     "name": "stdout",
     "output_type": "stream",
     "text": [
      "Global Steady State ERK : 1.0, Global Steady State AKT :1.0\n"
     ]
    }
   ],
   "source": [
    "global_SteadyState_ERK = np.median(global_ERK[:6])\n",
    "global_SteadyState_Akt = np.median(global_Akt[:6])\n",
    "print(f\"Global Steady State ERK : {global_SteadyState_ERK}, Global Steady State AKT :{global_SteadyState_Akt}\")"
   ],
   "metadata": {
    "collapsed": false,
    "ExecuteTime": {
     "start_time": "2023-06-21T21:58:50.238732Z",
     "end_time": "2023-06-21T21:58:50.301767Z"
    }
   }
  },
  {
   "cell_type": "markdown",
   "source": [
    "# Max change for the kinases by subtracting the min intensity from the global steady state and divide by that"
   ],
   "metadata": {
    "collapsed": false
   }
  },
  {
   "cell_type": "code",
   "execution_count": 65,
   "outputs": [
    {
     "name": "stdout",
     "output_type": "stream",
     "text": [
      "Max change ERK = 0.5004468275245755\n",
      "Max change Atk = 0.5714285714285714\n"
     ]
    }
   ],
   "source": [
    "max_change_ERK = (global_SteadyState_ERK - min_intensity_ERK)/global_SteadyState_ERK\n",
    "max_change_Atk = (global_SteadyState_Akt - min_intensity_Akt)/global_SteadyState_Akt\n",
    "print(f\"Max change ERK = {max_change_ERK}\\nMax change Atk = {max_change_Atk}\")"
   ],
   "metadata": {
    "collapsed": false,
    "ExecuteTime": {
     "start_time": "2023-06-21T21:58:51.431547Z",
     "end_time": "2023-06-21T21:58:51.445546Z"
    }
   }
  },
  {
   "cell_type": "code",
   "execution_count": 66,
   "outputs": [
    {
     "name": "stdout",
     "output_type": "stream",
     "text": [
      "(array([10], dtype=int64),)\n",
      "(array([18, 22, 23, 24, 25], dtype=int64),)\n"
     ]
    },
    {
     "data": {
      "text/plain": "numpy.float64"
     },
     "execution_count": 66,
     "metadata": {},
     "output_type": "execute_result"
    }
   ],
   "source": [
    "print(min_timeFrame_ERK)\n",
    "print(min_timeFrame_Akt)\n",
    "type(min_intensity_ERK)"
   ],
   "metadata": {
    "collapsed": false,
    "ExecuteTime": {
     "start_time": "2023-06-21T21:58:52.206257Z",
     "end_time": "2023-06-21T21:58:52.232517Z"
    }
   }
  },
  {
   "cell_type": "code",
   "execution_count": 68,
   "outputs": [
    {
     "ename": "ValueError",
     "evalue": "The truth value of an array with more than one element is ambiguous. Use a.any() or a.all()",
     "output_type": "error",
     "traceback": [
      "\u001B[1;31m---------------------------------------------------------------------------\u001B[0m",
      "\u001B[1;31mValueError\u001B[0m                                Traceback (most recent call last)",
      "Cell \u001B[1;32mIn[68], line 2\u001B[0m\n\u001B[0;32m      1\u001B[0m \u001B[38;5;66;03m# Drop anything before 7th frame\u001B[39;00m\n\u001B[1;32m----> 2\u001B[0m filtered_min_Akt \u001B[38;5;241m=\u001B[39m [frames \u001B[38;5;28;01mfor\u001B[39;00m frames \u001B[38;5;129;01min\u001B[39;00m min_timeFrame_Akt \u001B[38;5;28;01mif\u001B[39;00m frames \u001B[38;5;241m>\u001B[39m\u001B[38;5;241m=\u001B[39m \u001B[38;5;241m7\u001B[39m ]\n\u001B[0;32m      3\u001B[0m filtered_min_ERK \u001B[38;5;241m=\u001B[39m [frames \u001B[38;5;28;01mfor\u001B[39;00m frames \u001B[38;5;129;01min\u001B[39;00m min_timeFrame_ERK \u001B[38;5;28;01mif\u001B[39;00m frames \u001B[38;5;241m>\u001B[39m\u001B[38;5;241m=\u001B[39m \u001B[38;5;241m7\u001B[39m ]\n",
      "Cell \u001B[1;32mIn[68], line 2\u001B[0m, in \u001B[0;36m<listcomp>\u001B[1;34m(.0)\u001B[0m\n\u001B[0;32m      1\u001B[0m \u001B[38;5;66;03m# Drop anything before 7th frame\u001B[39;00m\n\u001B[1;32m----> 2\u001B[0m filtered_min_Akt \u001B[38;5;241m=\u001B[39m [frames \u001B[38;5;28;01mfor\u001B[39;00m frames \u001B[38;5;129;01min\u001B[39;00m min_timeFrame_Akt \u001B[38;5;28;01mif\u001B[39;00m \u001B[43mframes\u001B[49m\u001B[43m \u001B[49m\u001B[38;5;241;43m>\u001B[39;49m\u001B[38;5;241;43m=\u001B[39;49m\u001B[43m \u001B[49m\u001B[38;5;241;43m7\u001B[39;49m ]\n\u001B[0;32m      3\u001B[0m filtered_min_ERK \u001B[38;5;241m=\u001B[39m [frames \u001B[38;5;28;01mfor\u001B[39;00m frames \u001B[38;5;129;01min\u001B[39;00m min_timeFrame_ERK \u001B[38;5;28;01mif\u001B[39;00m frames \u001B[38;5;241m>\u001B[39m\u001B[38;5;241m=\u001B[39m \u001B[38;5;241m7\u001B[39m ]\n",
      "\u001B[1;31mValueError\u001B[0m: The truth value of an array with more than one element is ambiguous. Use a.any() or a.all()"
     ]
    }
   ],
   "source": [
    "# Drop anything before 7th frame\n",
    "#filtered_min_Akt = [frames for frames in min_timeFrame_Akt if frames >= 7 ]\n",
    "#filtered_min_ERK = [frames for frames in min_timeFrame_ERK if frames >= 7 ]"
   ],
   "metadata": {
    "collapsed": false
   }
  },
  {
   "cell_type": "code",
   "execution_count": 70,
   "outputs": [
    {
     "name": "stdout",
     "output_type": "stream",
     "text": [
      "Rate Of Change: \n",
      "ERK = 0.011120374624776927\n",
      "Atk = 0.0070542512500710785\n"
     ]
    }
   ],
   "source": [
    "#Rate of change\n",
    "Frame_intrvl = 270.01617\n",
    "# devide spoted min intensity with 60 ( minutes) multiplied by the frame interval, also pick only the 1st min spotted\n",
    "Duration_AKT = (min_timeFrame_Akt[0][0] ) * Frame_intrvl /60\n",
    "Duration_ERK = (min_timeFrame_ERK[0][0]) * Frame_intrvl /60\n",
    "\n",
    "RateOfChange_Akt = max_change_Atk / Duration_AKT\n",
    "RateOfChange_ERK = max_change_ERK / Duration_ERK\n",
    "\n",
    "\n",
    "print(f\"Rate Of Change: \\nERK = {RateOfChange_ERK}\\nAtk = {RateOfChange_Akt}\")"
   ],
   "metadata": {
    "collapsed": false,
    "ExecuteTime": {
     "start_time": "2023-06-21T22:00:25.816544Z",
     "end_time": "2023-06-21T22:00:25.828560Z"
    }
   }
  },
  {
   "cell_type": "markdown",
   "source": [
    "# Calculate the rates"
   ],
   "metadata": {
    "collapsed": false
   }
  },
  {
   "cell_type": "code",
   "execution_count": 20,
   "outputs": [],
   "source": [],
   "metadata": {
    "collapsed": false,
    "ExecuteTime": {
     "start_time": "2023-06-21T19:40:55.768567Z",
     "end_time": "2023-06-21T19:40:56.009568Z"
    }
   }
  }
 ],
 "metadata": {
  "kernelspec": {
   "display_name": "Python 3",
   "language": "python",
   "name": "python3"
  },
  "language_info": {
   "codemirror_mode": {
    "name": "ipython",
    "version": 2
   },
   "file_extension": ".py",
   "mimetype": "text/x-python",
   "name": "python",
   "nbconvert_exporter": "python",
   "pygments_lexer": "ipython2",
   "version": "2.7.6"
  }
 },
 "nbformat": 4,
 "nbformat_minor": 0
}
